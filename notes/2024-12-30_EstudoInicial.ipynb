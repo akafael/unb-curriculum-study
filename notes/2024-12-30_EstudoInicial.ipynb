{
 "cells": [
  {
   "cell_type": "markdown",
   "metadata": {},
   "source": [
    "## Estudo inicial\n",
    "\n",
    "A conclusão de um curso de graduação envolve a aprovação em uma sequência de matérias, muitas das quais com requisitos entre si. Em cursos de exatas, dado a complexidade dos assuntos é usual cadeias longas formadas pela matérias do ciclo básico e seguidas das dependências do ciclo das áreas específicas.\n",
    "\n",
    "Com base no relatório de pesquisa de egressos da graduação de 2021, é percebido que cerca de $91\\%$ dos alunos de engenharia mecatrônica levaram pelo menos 2 semestres a mais para formar e $38,6\\%$ [$^{[1]}$][^unb-ras-2021-controle-e-automacao]. Sendo portando algo que afeta uma taxa significativa dos alunos e sendo portanto necessário um estudo para avaliar formas de mitigar o problema ou ajustar as expectativas de tempo esperado de formatura para algo um dado mais realista.\n",
    "\n",
    "Diantes disto a proposta deste estudo é a avaliar as seguintes questões em aberto:\n",
    "\n",
    "1. Qual o efeito de cadeias longas de dependências de matérias no tempo médio de conclusão do curso?\n",
    "2. Qual o efeito da taxa de reprovação média nas matérias no tempo médio de conclusão?\n",
    "3. Qual o efeito de uma alta reprovação uma matéria na quantidade de alunos por turma?\n",
    "\n",
    "[^unb-ras-2021-controle-e-automacao]: https://avaliacao.unb.br/avaliacao-interna/pesquisa-de-egressos"
   ]
  },
  {
   "cell_type": "markdown",
   "metadata": {},
   "source": [
    "### Analise a partir de distribuição Binomial\n",
    "\n",
    "Analisando somente a cadeia mais longa e supondo:\n",
    "\n",
    "1. Todas as matérias tenham a mesma taxa de reprovação.\n",
    "2. O processo de aprovação seja aleatório e definido por um taxa de sucesso $p_{success}$ medida por $p_{success} = 1- p_{fail}$, em que $p_{fail}$ é taxa de reprovação média.\n",
    "\n",
    "Podemos estimar a taxa de sucesso de aprovação após N matérias de forma similar ao lançamento de uma moeda N vezes."
   ]
  },
  {
   "cell_type": "markdown",
   "metadata": {},
   "source": [
    "#### Estudo taxa de sucesso"
   ]
  },
  {
   "cell_type": "code",
   "execution_count": 22,
   "metadata": {},
   "outputs": [
    {
     "name": "stdout",
     "output_type": "stream",
     "text": [
      "r\tp(r)\n",
      "0\t0.00021870000000000055\n",
      "1\t0.0035721000000000034\n",
      "2\t0.02500470000000003\n",
      "3\t0.0972405000000001\n",
      "4\t0.22689449999999997\n",
      "5\t0.3176523000000003\n",
      "6\t0.24706290000000009\n",
      "7\t0.08235429999999996\n",
      "mean = 4.8999999999999995\n",
      "variance = 1.4699999999999998\n"
     ]
    }
   ],
   "source": [
    "from scipy.stats import binom \n",
    "\n",
    "n = 7\n",
    "p = 0.7\n",
    "\n",
    "# defining the list of r values \n",
    "r_values = list(range(n + 1)) \n",
    "\n",
    "# obtaining the mean and variance  \n",
    "mean, var = binom.stats(n, p) \n",
    "\n",
    "# list of pmf values \n",
    "dist = [binom.pmf(r, n, p) for r in r_values ]\n",
    "\n",
    "# printing the table \n",
    "print(\"r\\tp(r)\") \n",
    "for i in range(n + 1): \n",
    "    print(str(r_values[i]) + \"\\t\" + str(dist[i])) \n",
    "\n",
    "# printing mean and variance \n",
    "print(\"mean = \"+str(mean)) \n",
    "print(\"variance = \"+str(var))\n"
   ]
  },
  {
   "cell_type": "markdown",
   "metadata": {},
   "source": [
    "#### Distribuição de alunos após N semestres\n",
    "\n",
    "Com base nas chances podemos estimar qual será a distribuição dos alunos de uma turma após N semestres:\n"
   ]
  },
  {
   "cell_type": "code",
   "execution_count": 23,
   "metadata": {},
   "outputs": [
    {
     "name": "stdout",
     "output_type": "stream",
     "text": [
      "r\t# students(r)\n",
      "0\t0\n",
      "1\t0\n",
      "2\t1\n",
      "3\t4\n",
      "4\t9\n",
      "5\t13\n",
      "6\t10\n",
      "7\t3\n"
     ]
    }
   ],
   "source": [
    "n_students = 40\n",
    "n = 7\n",
    "p = 0.7\n",
    "\n",
    "r_values = list(range(n + 1))\n",
    "dist_students = [round(n_students * binom.pmf(r, n, p),0) for r in r_values]\n",
    "\n",
    "# printing the table \n",
    "print(\"r\\t# students(r)\") \n",
    "for i in range(n + 1): \n",
    "    print(f\"{r_values[i]}\\t{dist_students[i]:.0f}\")"
   ]
  },
  {
   "cell_type": "markdown",
   "metadata": {},
   "source": [
    "Nesta primeira estimativa, teriamos que após 7 semestre com uma taxa de reprovação por matéria de $30\\%$ apenas 3 estudantes teriam concluído as 7 matérias de uma turma de 40 alunos."
   ]
  }
 ],
 "metadata": {
  "kernelspec": {
   "display_name": ".venv",
   "language": "python",
   "name": "python3"
  },
  "language_info": {
   "codemirror_mode": {
    "name": "ipython",
    "version": 3
   },
   "file_extension": ".py",
   "mimetype": "text/x-python",
   "name": "python",
   "nbconvert_exporter": "python",
   "pygments_lexer": "ipython3",
   "version": "3.10.12"
  }
 },
 "nbformat": 4,
 "nbformat_minor": 2
}
